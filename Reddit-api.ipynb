{
 "cells": [
  {
   "attachments": {},
   "cell_type": "markdown",
   "metadata": {},
   "source": [
    "### Install requirements"
   ]
  },
  {
   "cell_type": "code",
   "execution_count": 1,
   "metadata": {},
   "outputs": [],
   "source": [
    "# ! pip install praw"
   ]
  },
  {
   "attachments": {},
   "cell_type": "markdown",
   "metadata": {},
   "source": [
    "### Import libraries"
   ]
  },
  {
   "cell_type": "code",
   "execution_count": 2,
   "metadata": {},
   "outputs": [],
   "source": [
    "import praw\n",
    "import socket\n",
    "import threading\n",
    "import json"
   ]
  },
  {
   "attachments": {},
   "cell_type": "markdown",
   "metadata": {},
   "source": [
    "### Server configuration"
   ]
  },
  {
   "cell_type": "code",
   "execution_count": 3,
   "metadata": {},
   "outputs": [],
   "source": [
    "class RedditAPIServer:\n",
    "    def __init__(self, client_id, client_secret, user_agent, subreddit_name, host='localhost', port=9999):\n",
    "        self.client_id = client_id\n",
    "        self.client_secret = client_secret\n",
    "        self.user_agent = user_agent\n",
    "        self.subreddit_name = subreddit_name\n",
    "        self.host = host\n",
    "        self.port = port\n",
    "        self.clients = []\n",
    "        self.lock = threading.Lock()\n",
    "        self.reddit = None\n",
    "        self.server_sock = None\n",
    "\n",
    "    def start(self):\n",
    "        self._initialize_client()\n",
    "        self._create_server_socket()\n",
    "        self._start_streaming_thread()\n",
    "        self._accept_clients()\n",
    "\n",
    "    def _initialize_client(self):\n",
    "        self.reddit = praw.Reddit(\n",
    "            client_id=self.client_id,\n",
    "            client_secret=self.client_secret,\n",
    "            user_agent=self.user_agent\n",
    "        )\n",
    "\n",
    "    def _create_server_socket(self):\n",
    "        self.server_sock = socket.socket(socket.AF_INET, socket.SOCK_STREAM)\n",
    "        self.server_sock.bind((self.host, self.port))\n",
    "        self.server_sock.listen()\n",
    "        print(f'Server listening on {self.host}:{self.port}')\n",
    "\n",
    "    def _start_streaming_thread(self):\n",
    "        stream_thread = threading.Thread(target=self._stream_data)\n",
    "        stream_thread.start()\n",
    "\n",
    "    def _accept_clients(self):\n",
    "        while True:\n",
    "            client_sock, client_addr = self.server_sock.accept()\n",
    "            client_thread = threading.Thread(\n",
    "                target=self._handle_client, args=(client_sock, client_addr))\n",
    "            client_thread.start()\n",
    "\n",
    "    def stop(self):\n",
    "        self.server_sock.close()\n",
    "        self._disconnect_clients()\n",
    "\n",
    "    def _disconnect_clients(self):\n",
    "        for client in self.clients:\n",
    "            client[0].close()\n",
    "        self.clients = []\n",
    "\n",
    "    def _stream_data(self):\n",
    "        for submission in self.reddit.subreddit(self.subreddit_name).stream.submissions():\n",
    "            message, metadata = self._get_submission_data(submission)\n",
    "            data = {\n",
    "                'message': message,\n",
    "                'metadata': metadata\n",
    "            }\n",
    "            disconnected_clients = []\n",
    "            self.lock.acquire()\n",
    "            for client in self.clients:\n",
    "                try:\n",
    "                    self._send_data_to_client(client[0], data)\n",
    "                except (socket.error, OSError):\n",
    "                    print(f'Client disconnected: {client[1]}')\n",
    "                    disconnected_clients.append(client)\n",
    "            for client in disconnected_clients:\n",
    "                self.clients.remove(client)\n",
    "            self.lock.release()\n",
    "\n",
    "    def _get_submission_data(self, submission):\n",
    "        message = submission.title\n",
    "        metadata = {\n",
    "            'author_name': submission.author.name if submission.author else None,\n",
    "            'date': submission.created_utc,\n",
    "            'score': submission.score,\n",
    "            'num_comments': submission.num_comments,\n",
    "            'upvote_ratio': submission.upvote_ratio,\n",
    "            'text': submission.selftext if submission.selftext else '',\n",
    "            'subreddit_name': submission.subreddit.display_name if submission.subreddit else ''\n",
    "        }\n",
    "        return message, metadata\n",
    "\n",
    "    def _send_data_to_client(self, client_sock, data):\n",
    "        client_sock.getpeername()\n",
    "        client_sock.sendall((json.dumps(data)+\"\\n\").encode('utf-8'))\n",
    "\n",
    "    def _handle_client(self, client_sock, client_addr):\n",
    "        print(f'New client connected: {client_addr}')\n",
    "        self.lock.acquire()\n",
    "        self.clients.append((client_sock, client_addr))\n",
    "        self.lock.release()\n",
    "\n",
    "        try:\n",
    "            while True:\n",
    "                data = client_sock.recv(1024)\n",
    "                if not data:\n",
    "                    break\n",
    "        except socket.error:\n",
    "            pass\n",
    "        finally:\n",
    "            print(f'Client disconnected: {client_addr}')\n",
    "            self.lock.acquire()\n",
    "            self.clients.remove((client_sock, client_addr))\n",
    "            client_sock.close()\n",
    "            self.lock\n"
   ]
  },
  {
   "attachments": {},
   "cell_type": "markdown",
   "metadata": {},
   "source": [
    "### Run the server"
   ]
  },
  {
   "cell_type": "code",
   "execution_count": 4,
   "metadata": {},
   "outputs": [
    {
     "name": "stdout",
     "output_type": "stream",
     "text": [
      "Server listening on localhost:9999\n",
      "New client connected: ('127.0.0.1', 60244)\n"
     ]
    },
    {
     "ename": "KeyboardInterrupt",
     "evalue": "",
     "output_type": "error",
     "traceback": [
      "\u001b[0;31m---------------------------------------------------------------------------\u001b[0m",
      "\u001b[0;31mKeyboardInterrupt\u001b[0m                         Traceback (most recent call last)",
      "Cell \u001b[0;32mIn[4], line 7\u001b[0m\n\u001b[1;32m      4\u001b[0m SUBREDDIT_NAME \u001b[39m=\u001b[39m \u001b[39m'\u001b[39m\u001b[39mall\u001b[39m\u001b[39m'\u001b[39m\n\u001b[1;32m      6\u001b[0m server \u001b[39m=\u001b[39m RedditAPIServer(CLIENT_ID, CLIENT_SECRET, USER_AGENT, SUBREDDIT_NAME)\n\u001b[0;32m----> 7\u001b[0m server\u001b[39m.\u001b[39;49mstart()\n",
      "Cell \u001b[0;32mIn[3], line 18\u001b[0m, in \u001b[0;36mRedditAPIServer.start\u001b[0;34m(self)\u001b[0m\n\u001b[1;32m     16\u001b[0m \u001b[39mself\u001b[39m\u001b[39m.\u001b[39m_create_server_socket()\n\u001b[1;32m     17\u001b[0m \u001b[39mself\u001b[39m\u001b[39m.\u001b[39m_start_streaming_thread()\n\u001b[0;32m---> 18\u001b[0m \u001b[39mself\u001b[39;49m\u001b[39m.\u001b[39;49m_accept_clients()\n",
      "Cell \u001b[0;32mIn[3], line 39\u001b[0m, in \u001b[0;36mRedditAPIServer._accept_clients\u001b[0;34m(self)\u001b[0m\n\u001b[1;32m     37\u001b[0m \u001b[39mdef\u001b[39;00m \u001b[39m_accept_clients\u001b[39m(\u001b[39mself\u001b[39m):\n\u001b[1;32m     38\u001b[0m     \u001b[39mwhile\u001b[39;00m \u001b[39mTrue\u001b[39;00m:\n\u001b[0;32m---> 39\u001b[0m         client_sock, client_addr \u001b[39m=\u001b[39m \u001b[39mself\u001b[39;49m\u001b[39m.\u001b[39;49mserver_sock\u001b[39m.\u001b[39;49maccept()\n\u001b[1;32m     40\u001b[0m         client_thread \u001b[39m=\u001b[39m threading\u001b[39m.\u001b[39mThread(\n\u001b[1;32m     41\u001b[0m             target\u001b[39m=\u001b[39m\u001b[39mself\u001b[39m\u001b[39m.\u001b[39m_handle_client, args\u001b[39m=\u001b[39m(client_sock, client_addr))\n\u001b[1;32m     42\u001b[0m         client_thread\u001b[39m.\u001b[39mstart()\n",
      "File \u001b[0;32m/usr/lib/python3.8/socket.py:292\u001b[0m, in \u001b[0;36msocket.accept\u001b[0;34m(self)\u001b[0m\n\u001b[1;32m    285\u001b[0m \u001b[39mdef\u001b[39;00m \u001b[39maccept\u001b[39m(\u001b[39mself\u001b[39m):\n\u001b[1;32m    286\u001b[0m \u001b[39m    \u001b[39m\u001b[39m\"\"\"accept() -> (socket object, address info)\u001b[39;00m\n\u001b[1;32m    287\u001b[0m \n\u001b[1;32m    288\u001b[0m \u001b[39m    Wait for an incoming connection.  Return a new socket\u001b[39;00m\n\u001b[1;32m    289\u001b[0m \u001b[39m    representing the connection, and the address of the client.\u001b[39;00m\n\u001b[1;32m    290\u001b[0m \u001b[39m    For IP sockets, the address info is a pair (hostaddr, port).\u001b[39;00m\n\u001b[1;32m    291\u001b[0m \u001b[39m    \"\"\"\u001b[39;00m\n\u001b[0;32m--> 292\u001b[0m     fd, addr \u001b[39m=\u001b[39m \u001b[39mself\u001b[39;49m\u001b[39m.\u001b[39;49m_accept()\n\u001b[1;32m    293\u001b[0m     sock \u001b[39m=\u001b[39m socket(\u001b[39mself\u001b[39m\u001b[39m.\u001b[39mfamily, \u001b[39mself\u001b[39m\u001b[39m.\u001b[39mtype, \u001b[39mself\u001b[39m\u001b[39m.\u001b[39mproto, fileno\u001b[39m=\u001b[39mfd)\n\u001b[1;32m    294\u001b[0m     \u001b[39m# Issue #7995: if no default timeout is set and the listening\u001b[39;00m\n\u001b[1;32m    295\u001b[0m     \u001b[39m# socket had a (non-zero) timeout, force the new socket in blocking\u001b[39;00m\n\u001b[1;32m    296\u001b[0m     \u001b[39m# mode to override platform-specific socket flags inheritance.\u001b[39;00m\n",
      "\u001b[0;31mKeyboardInterrupt\u001b[0m: "
     ]
    }
   ],
   "source": [
    "CLIENT_ID = 't4ulpW-K0wmu6DCi5FuOIA'\n",
    "CLIENT_SECRET = 'mJaM8HtkAsG8xJf9OrGep6bxQjfuhQ'\n",
    "USER_AGENT = 'macos:my-reddit-streaming-sentiment-analysis-app:v1.0'\n",
    "SUBREDDIT_NAME = 'all'\n",
    "\n",
    "server = RedditAPIServer(CLIENT_ID, CLIENT_SECRET, USER_AGENT, SUBREDDIT_NAME)\n",
    "server.start()\n"
   ]
  },
  {
   "cell_type": "code",
   "execution_count": null,
   "metadata": {},
   "outputs": [],
   "source": []
  }
 ],
 "metadata": {
  "kernelspec": {
   "display_name": "base",
   "language": "python",
   "name": "python3"
  },
  "language_info": {
   "codemirror_mode": {
    "name": "ipython",
    "version": 3
   },
   "file_extension": ".py",
   "mimetype": "text/x-python",
   "name": "python",
   "nbconvert_exporter": "python",
   "pygments_lexer": "ipython3",
   "version": "3.8.10"
  },
  "orig_nbformat": 4
 },
 "nbformat": 4,
 "nbformat_minor": 2
}
